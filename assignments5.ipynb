{
 "cells": [
  {
   "cell_type": "code",
   "execution_count": 1,
   "metadata": {},
   "outputs": [
    {
     "name": "stdout",
     "output_type": "stream",
     "text": [
      "Calculating factorial : 6\n",
      "720\n"
     ]
    }
   ],
   "source": [
    "def non_negativeinteger(number):\n",
    "    if int(number) > 0 :\n",
    "        return True\n",
    "    else:\n",
    "        return False\n",
    "def Factorial(number):\n",
    "    factorial = 1\n",
    "    if non_negativeinteger(number) == True:\n",
    "        number = int(number)\n",
    "        for i in range(1, number + 1):\n",
    "            factorial = factorial * i\n",
    "        print(factorial)\n",
    "    else:\n",
    "        print(\"Invalid input\")\n",
    "\n",
    "fact = input(\"Calculating factorial : \")\n",
    "Factorial(fact)"
   ]
  },
  {
   "cell_type": "code",
   "execution_count": 2,
   "metadata": {},
   "outputs": [
    {
     "name": "stdout",
     "output_type": "stream",
     "text": [
      "Input string : Ismail Yar Khan\n",
      "Inputed String :  Ismail Yar Khan\n",
      "Uppercase letters in the inputed string :  3\n",
      "Lowercase letters in the inputed string :  10\n"
     ]
    }
   ],
   "source": [
    "def calculating(string):\n",
    "    upper_case = 0\n",
    "    lower_case = 0\n",
    "    \n",
    "    for a in string:\n",
    "        if a.isupper():\n",
    "            upper_case += 1\n",
    "        elif a.islower():\n",
    "            lower_case += 1\n",
    "        else:\n",
    "            pass\n",
    "    print(\"Inputed String : \",string)\n",
    "    print(\"Uppercase letters in the inputed string : \", upper_case)\n",
    "    print(\"Lowercase letters in the inputed string : \", lower_case)\n",
    "        \n",
    "input_string = input(\"Input string : \")\n",
    "calculating(input_string)"
   ]
  },
  {
   "cell_type": "code",
   "execution_count": 3,
   "metadata": {},
   "outputs": [
    {
     "name": "stdout",
     "output_type": "stream",
     "text": [
      "[16, 4, 10, 2, 6]\n"
     ]
    }
   ],
   "source": [
    "def even(numbers):\n",
    "    even =[]\n",
    "    for n in numbers:\n",
    "        if n % 2 ==0:\n",
    "            even.append(n)\n",
    "    return even\n",
    "\n",
    "random_numbers=[1,16,4,9,10,17,2,6,5,11]\n",
    "print(even(random_numbers))"
   ]
  },
  {
   "cell_type": "code",
   "execution_count": 4,
   "metadata": {},
   "outputs": [
    {
     "name": "stdout",
     "output_type": "stream",
     "text": [
      "Checking whether an inputed string is a palindrome or not : madam\n",
      "you Entered Palindrome :  madam\n"
     ]
    }
   ],
   "source": [
    "def verify(words):\n",
    "    palindrome = (words[::-1])\n",
    "    if words == palindrome:\n",
    "        print(\"you Entered Palindrome : \",palindrome)\n",
    "    else:\n",
    "        print(\"Not a palindrome\")\n",
    "\n",
    "check =input(\"Checking whether an inputed string is a palindrome or not : \")\n",
    "verify(check)"
   ]
  },
  {
   "cell_type": "code",
   "execution_count": 10,
   "metadata": {},
   "outputs": [
    {
     "name": "stdout",
     "output_type": "stream",
     "text": [
      "Enter a number to check if it is prime number or not : 5\n",
      "5 is a prime number\n"
     ]
    }
   ],
   "source": [
    "getinput = int(input(\"Enter a number to check if it is prime number or not : \"))\n",
    "def primefunc(primeno):\n",
    "    prime=0\n",
    "    i=2\n",
    "    while i<primeno:\n",
    "        if primeno % i ==0:\n",
    "            prime = prime+1\n",
    "        i = i+1\n",
    "    if prime>0:\n",
    "        print(str(primeno) + \" \" + \"is not a prime number\")\n",
    "    else:\n",
    "        print(str(primeno) +\" \"+ \"is a prime number\")\n",
    "        \n",
    "\n",
    "primefunc(getinput)"
   ]
  },
  {
   "cell_type": "code",
   "execution_count": 11,
   "metadata": {},
   "outputs": [
    {
     "name": "stdout",
     "output_type": "stream",
     "text": [
      "Customer bought Oranges 1 KG\n",
      "Customer bought Bag of Potato chips\n",
      "Customer bought 2 can of tuna's\n"
     ]
    }
   ],
   "source": [
    "def shopping_items(*items):\n",
    "    for things in items:\n",
    "        print(\"Customer bought\",things)\n",
    "\n",
    "shopping_items('Oranges 1 KG','Bag of Potato chips',\"2 can of tuna's\")"
   ]
  },
  {
   "cell_type": "code",
   "execution_count": null,
   "metadata": {},
   "outputs": [],
   "source": []
  }
 ],
 "metadata": {
  "kernelspec": {
   "display_name": "Python 3",
   "language": "python",
   "name": "python3"
  },
  "language_info": {
   "codemirror_mode": {
    "name": "ipython",
    "version": 3
   },
   "file_extension": ".py",
   "mimetype": "text/x-python",
   "name": "python",
   "nbconvert_exporter": "python",
   "pygments_lexer": "ipython3",
   "version": "3.7.1"
  }
 },
 "nbformat": 4,
 "nbformat_minor": 2
}
