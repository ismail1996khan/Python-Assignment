{
 "cells": [
  {
   "cell_type": "code",
   "execution_count": 1,
   "metadata": {},
   "outputs": [
    {
     "name": "stdout",
     "output_type": "stream",
     "text": [
      "{'first_name': 'Ismail ', 'last_name': 'Yar Khan', 'age': 23, 'city': 'Karachi'}\n",
      "{'first_name': 'Ismail ', 'last_name': 'Yar Khan', 'age': 23, 'city': 'Karachi', 'Qualification': 'BS(SE)'}\n",
      "{'first_name': 'Ismail ', 'last_name': 'Yar Khan', 'age': 23, 'city': 'Karachi'}\n"
     ]
    }
   ],
   "source": [
    "data = {\"first_name\":\"Ismail \",\"last_name\":\"Yar Khan\",\"age\":23,\"city\":\"Karachi\"}\n",
    "print(data)\n",
    "data[\"Qualification\"] = \"BS(SE)\"\n",
    "print(data)\n",
    "del data[\"Qualification\"]\n",
    "print(data)"
   ]
  },
  {
   "cell_type": "code",
   "execution_count": 2,
   "metadata": {},
   "outputs": [
    {
     "name": "stdout",
     "output_type": "stream",
     "text": [
      "Karachi {'country': 'Pakistan', 'Population': '10 Million', 'fact': 'Previous capital city of Pakistan'}\n",
      "Lahore {'country': 'Pakistan', 'Population': '5 million', 'fact': 'Beautiful city, Heart of Pakistan'}\n",
      "Islamabad {'country': 'Pakistan', 'Population': '1 million', 'fact': 'Capital city of Pakistan'}\n"
     ]
    }
   ],
   "source": [
    "city = {\"Karachi\":{\"country\":\"Pakistan\",\"Population\":\"10 Million\",\"fact\":\"Previous capital city of Pakistan\"},\n",
    "        \"Lahore\":{\"country\":\"Pakistan\",\"Population\":\"5 million\",'fact':\"Beautiful city, Heart of Pakistan\"},\n",
    "       \"Islamabad\":{\"country\":\"Pakistan\",\"Population\":\"1 million\",\"fact\":\"Capital city of Pakistan\"}}\n",
    "for k,b in city.items():\n",
    "    print(k,b)"
   ]
  },
  {
   "cell_type": "code",
   "execution_count": 4,
   "metadata": {},
   "outputs": [
    {
     "name": "stdout",
     "output_type": "stream",
     "text": [
      "Input your Age : 8\n",
      "Ticket price = 10.00$\n"
     ]
    }
   ],
   "source": [
    "for i in range(3):\n",
    "    age = int(input(\"Input your Age : \"))\n",
    "    if age <=3:\n",
    "        print(\"Free Entry\")\n",
    "        break\n",
    "    elif age >3 and age <=12:\n",
    "        print(\"Ticket price = 10.00$\")\n",
    "        break\n",
    "    elif age > 12:\n",
    "        print(\"Ticket price = 15.00$\")\n",
    "        break"
   ]
  },
  {
   "cell_type": "code",
   "execution_count": 5,
   "metadata": {},
   "outputs": [
    {
     "name": "stdout",
     "output_type": "stream",
     "text": [
      "One of my favorite books is Stephen King's IT\n"
     ]
    }
   ],
   "source": [
    "def favorite_book(title):\n",
    "    \n",
    "    print(\"One of my favorite books is \" + title)\n",
    "\n",
    "favorite_book(\"Stephen King's IT\")"
   ]
  },
  {
   "cell_type": "code",
   "execution_count": 7,
   "metadata": {},
   "outputs": [
    {
     "name": "stdout",
     "output_type": "stream",
     "text": [
      "================HINT================\n",
      "try a number between 10 and 20\n",
      "enter your guess: 15\n",
      "your guess is wrong\n",
      "============better luck next time :-)============\n",
      "enter your guess: 11\n",
      "your guess is wrong\n",
      "============better luck next time :-)============\n",
      "enter your guess: 19\n",
      "your guess is wrong\n",
      "============better luck next time :-)============\n"
     ]
    }
   ],
   "source": [
    "import random\n",
    "random=random.randint(1,30)\n",
    "print(\"================HINT================\")\n",
    "if random>= 1 and random < 10:\n",
    "    print(\"try a number between 1 and 10\")\n",
    "elif random>= 10 and random< 20:\n",
    "    print(\"try a number between 10 and 20\")\n",
    "elif random>= 20 and random< 30:\n",
    "    print(\"try a number between 20 and 30\")\n",
    "for i in range(0,3):\n",
    "    user = int(input(\"enter your guess: \"))\n",
    "    if user < 1 or user > 30:\n",
    "        print(\"choose a number between 1 and 30\")\n",
    "    else:\n",
    "        if user == random:\n",
    "            print(\"your guess is right\")\n",
    "            break\n",
    "        else:\n",
    "            print(\"your guess is wrong\")\n",
    "            print(\"============better luck next time :-)============\")"
   ]
  },
  {
   "cell_type": "code",
   "execution_count": null,
   "metadata": {},
   "outputs": [],
   "source": []
  }
 ],
 "metadata": {
  "kernelspec": {
   "display_name": "Python 3",
   "language": "python",
   "name": "python3"
  },
  "language_info": {
   "codemirror_mode": {
    "name": "ipython",
    "version": 3
   },
   "file_extension": ".py",
   "mimetype": "text/x-python",
   "name": "python",
   "nbconvert_exporter": "python",
   "pygments_lexer": "ipython3",
   "version": "3.7.1"
  }
 },
 "nbformat": 4,
 "nbformat_minor": 2
}
