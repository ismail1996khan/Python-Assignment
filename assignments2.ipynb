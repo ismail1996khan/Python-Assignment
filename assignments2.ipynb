{
 "cells": [
  {
   "cell_type": "code",
   "execution_count": 3,
   "metadata": {},
   "outputs": [
    {
     "name": "stdout",
     "output_type": "stream",
     "text": [
      "Marks obtained in Mathematics out of 100 : 90\n",
      "Marks obtained in Physics out of 100     : 89\n",
      "Marks obtained in English out of 100     : 77\n",
      "Marks obtained in Urdu out of 100        : 76\n",
      "Marks obtained in Islamiat out of 50     : 44\n",
      "percentage :  83.55555555555556 %\n",
      "GRADE =  A+\n"
     ]
    }
   ],
   "source": [
    "mat = float(input(\"Marks obtained in Mathematics out of 100 : \"))\n",
    "phy = float(input(\"Marks obtained in Physics out of 100     : \"))\n",
    "eng = float(input(\"Marks obtained in English out of 100     : \"))\n",
    "urd = float(input(\"Marks obtained in Urdu out of 100        : \"))\n",
    "isl = float(input(\"Marks obtained in Islamiat out of 50     : \"))\n",
    "total_marks = 450\n",
    "obt_marks = int(mat + phy + eng + urd + isl)\n",
    "\n",
    "percentage = obt_marks / total_marks * 100 \n",
    "\n",
    "if percentage >= 80:\n",
    "  grade = \"A+\"\n",
    "elif percentage >= 70 and percentage <= 79:\n",
    "  grade = \"A\"\n",
    "elif percentage >= 60 and percentage < 70:\n",
    "  grade = \"B\"\n",
    "elif percentage >= 50 and percentage < 60:\n",
    "  grade = \"C\"\n",
    "elif percentage >= 40 and percentage < 50:\n",
    "  grade = \"D\"\n",
    "elif percentage < 39:\n",
    "  grade = \"F\" \n",
    "elif percentage > 100:\n",
    "  grade = \"LOGIC ERROR\"\n",
    "else:\n",
    "  print(\"something went wrong please try again later\")  \n",
    "  \n",
    "print(\"percentage : \" , percentage , \"%\")\n",
    "print(\"GRADE = \" , grade)"
   ]
  },
  {
   "cell_type": "code",
   "execution_count": 4,
   "metadata": {},
   "outputs": [
    {
     "name": "stdout",
     "output_type": "stream",
     "text": [
      "Enter Number: 8\n",
      "8  Even Number \n"
     ]
    }
   ],
   "source": [
    "num = int(input(\"Enter Number: \"))\n",
    "\n",
    "if num % 2 == 0:\n",
    "    print(num , \" Even Number \")\n",
    "else:\n",
    "    print(num , \" Odd Number \")"
   ]
  },
  {
   "cell_type": "code",
   "execution_count": 5,
   "metadata": {},
   "outputs": [
    {
     "name": "stdout",
     "output_type": "stream",
     "text": [
      "The lenght of the list is :  5\n"
     ]
    }
   ],
   "source": [
    "l1 = [5 , 7 , 6 , 8 , 9]\n",
    "print(\"The lenght of the list is : \" , len(l1))"
   ]
  },
  {
   "cell_type": "code",
   "execution_count": 6,
   "metadata": {},
   "outputs": [
    {
     "name": "stdout",
     "output_type": "stream",
     "text": [
      "Sum of all elements in given list is:  33\n"
     ]
    }
   ],
   "source": [
    "sum = 0\n",
    "\n",
    "l2 = [12 , 8 , 1 , 9 , 3]  \n",
    "   \n",
    "for element in range(0, len(l2)): \n",
    "    sum = sum + l2[element] \n",
    "  \n",
    "print(\"Sum of all elements in given list is: \", sum)"
   ]
  },
  {
   "cell_type": "code",
   "execution_count": 8,
   "metadata": {},
   "outputs": [
    {
     "name": "stdout",
     "output_type": "stream",
     "text": [
      "Largest number is: 89\n"
     ]
    }
   ],
   "source": [
    "l3 = [10, 20, 4, 45, 89 , 54 , 66]\n",
    "  \n",
    "l3.sort() \n",
    "  \n",
    "print(\"Largest number is:\", l3[-1])"
   ]
  },
  {
   "cell_type": "code",
   "execution_count": 9,
   "metadata": {},
   "outputs": [
    {
     "name": "stdout",
     "output_type": "stream",
     "text": [
      "[8, 13, 21, 34, 55, 89]\n"
     ]
    }
   ],
   "source": [
    "a = [1, 1, 2, 3, 5, 8, 13, 21, 34, 55, 89]\n",
    "b = []\n",
    "for elem in a:\n",
    "  if elem > 5:\n",
    "    b.append(elem)\n",
    "\n",
    "print(b)"
   ]
  },
  {
   "cell_type": "code",
   "execution_count": null,
   "metadata": {},
   "outputs": [],
   "source": []
  }
 ],
 "metadata": {
  "kernelspec": {
   "display_name": "Python 3",
   "language": "python",
   "name": "python3"
  },
  "language_info": {
   "codemirror_mode": {
    "name": "ipython",
    "version": 3
   },
   "file_extension": ".py",
   "mimetype": "text/x-python",
   "name": "python",
   "nbconvert_exporter": "python",
   "pygments_lexer": "ipython3",
   "version": "3.7.1"
  }
 },
 "nbformat": 4,
 "nbformat_minor": 2
}
