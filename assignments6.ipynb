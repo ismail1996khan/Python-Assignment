{
 "cells": [
  {
   "cell_type": "markdown",
   "metadata": {},
   "source": [
    "# Q1. Define Object Oriented Progamming Language ?"
   ]
  },
  {
   "cell_type": "markdown",
   "metadata": {},
   "source": [
    "A1.Object-oriented programming (OOP) refers to a type of computer programming (software design) in which programmers define not only the data type of a data structure, but also the types of operations (functions) that can be applied to the data structure."
   ]
  },
  {
   "cell_type": "markdown",
   "metadata": {},
   "source": [
    "#  Q2. List down the benifits of OOP ?"
   ]
  },
  {
   "cell_type": "markdown",
   "metadata": {},
   "source": [
    "Following are some of the benefits of OOP.\n",
    "1. Modularity for easier troubleshooting\n",
    "2. Reuse of code through inheritance\n",
    "3. Flexibility through polymorphism\n",
    "4. Effective problem solving"
   ]
  },
  {
   "cell_type": "markdown",
   "metadata": {},
   "source": [
    "# Q3. Differentiate between Function & Method ?"
   ]
  },
  {
   "cell_type": "markdown",
   "metadata": {},
   "source": [
    "A function is a piece of code that is called by name. It can be passed data to operate on (i.e. the parameters) and can optionally return data (the return value). All data that is passed to a function is explicitly passed.\n",
    "\n",
    "A method is a piece of code that is called by a name that is associated with an object. In most respects it is identical to a function except for two key differences: \n",
    "1. A method is implicitly passed the object on which it was called. \n",
    "2. A method is able to operate on data that is contained within the class (remembering that an object is an instance of a class - the class is the definition, the object is an instance of that data)."
   ]
  },
  {
   "cell_type": "markdown",
   "metadata": {},
   "source": [
    "# Q4.Define the following terms :\n"
   ]
  },
  {
   "cell_type": "markdown",
   "metadata": {},
   "source": [
    "Class : It is a blueprint for creating objects (a particular data structure), providing initial values for state (member variables or attributes), and implementations of behavior (member functions or methods).\n",
    "\n",
    "Object : They are the things you think about first in designing a program and they are also the units of code that are eventually derived from the process.\n",
    "\n",
    "Attribute : Attributes are data stored inside a class or instance and represent the state or quality of the class or instance. In short, attributes store information about the instance.\n",
    "\n",
    "Behaviour : A class's behavior determines how an instance of that class operates. Behavior is the only way objects can do anything to themselves or have anything done to them."
   ]
  },
  {
   "cell_type": "markdown",
   "metadata": {},
   "source": [
    "# Q5. Write a code in python creating a class named car which have 5 attributes such as (model, color & name etc.) and 3 methods also create 5 objects instances from that class."
   ]
  },
  {
   "cell_type": "code",
   "execution_count": 1,
   "metadata": {},
   "outputs": [
    {
     "name": "stdout",
     "output_type": "stream",
     "text": [
      "Corolla\n",
      "LXR\n",
      "Black\n",
      "2019\n",
      "750\n",
      "Toyota\n",
      "Ryadh\n",
      "KSA\n",
      "<__main__.car object at 0x000000072A20EE80>\n",
      "Aqua\n",
      "Hybrid\n",
      "Aqua\n",
      "2019\n",
      "900\n",
      "Toyota\n",
      "Dubai\n",
      "UAE\n",
      "<__main__.car object at 0x000000072A20EEF0>\n",
      "Petrol\n",
      "Safari\n",
      "Black\n",
      "2020\n",
      "800\n",
      "Nissan\n",
      "Tokyo\n",
      "Japan\n",
      "<__main__.car object at 0x000000072A4000B8>\n",
      "Sunny\n",
      "GL\n",
      "Maroon\n",
      "2017\n",
      "700\n",
      "Nissan\n",
      "New York\n",
      "USA\n",
      "<__main__.car object at 0x000000072A400198>\n",
      "Aqua\n",
      "Hybrid\n",
      "Aqua\n",
      "2015\n",
      "870\n",
      "Toyota\n",
      "BeJing\n",
      "China\n",
      "<__main__.car object at 0x000000072A4002B0>\n"
     ]
    }
   ],
   "source": [
    "class car():\n",
    "    def __init__(car,name,model,color,year,hp):\n",
    "        car.name = name\n",
    "        car.model = model\n",
    "        car.color = color\n",
    "        car.year = year\n",
    "        car.hp = hp\n",
    "        car.co = \"Lamborgini\"\n",
    "        car.city = \"Karachi\"\n",
    "        car.country = \"Pakisan\"\n",
    "    \n",
    "    def updateco_name(car,newname):\n",
    "        car.co = newname\n",
    "    def updatecity(car,newcity):\n",
    "        car.city = newcity\n",
    "    def updatecountry(car,newcountry):\n",
    "        car.country = newcountry\n",
    "    \n",
    "\n",
    "car1=car(\"Corolla\",\"LXR\",\"Black\",2019,750)\n",
    "print(car1.name)\n",
    "print(car1.model)\n",
    "print(car1.color)\n",
    "print(car1.year)\n",
    "print(car1.hp)\n",
    "car1.updateco_name(\"Toyota\")\n",
    "car1.updatecity(\"Ryadh\")\n",
    "car1.updatecountry(\"KSA\")\n",
    "print(car1.co)\n",
    "print(car1.city)\n",
    "print(car1.country)\n",
    "print(car1)\n",
    "\n",
    "car2=car(\"Aqua\",\"Hybrid\",\"Aqua\",2019,900)\n",
    "print(car2.name)\n",
    "print(car2.model)\n",
    "print(car2.color)\n",
    "print(car2.year)\n",
    "print(car2.hp)\n",
    "car2.updateco_name(\"Toyota\")\n",
    "car2.updatecity(\"Dubai\")\n",
    "car2.updatecountry(\"UAE\")\n",
    "print(car2.co)\n",
    "print(car2.city)\n",
    "print(car2.country)\n",
    "print(car2)\n",
    "\n",
    "car3=car(\"Petrol\",\"Safari\",\"Black\",2020,800)\n",
    "print(car3.name)\n",
    "print(car3.model)\n",
    "print(car3.color)\n",
    "print(car3.year)\n",
    "print(car3.hp)\n",
    "car3.updateco_name(\"Nissan\")\n",
    "car3.updatecity(\"Tokyo\")\n",
    "car3.updatecountry(\"Japan\")\n",
    "print(car3.co)\n",
    "print(car3.city)\n",
    "print(car3.country)\n",
    "print(car3)\n",
    "\n",
    "car4=car(\"Sunny\",\"GL\",\"Maroon\",2017,700)\n",
    "print(car4.name)\n",
    "print(car4.model)\n",
    "print(car4.color)\n",
    "print(car4.year)\n",
    "print(car4.hp)\n",
    "car4.updateco_name(\"Nissan\")\n",
    "car4.updatecity(\"New York\")\n",
    "car4.updatecountry(\"USA\")\n",
    "print(car4.co)\n",
    "print(car4.city)\n",
    "print(car4.country)\n",
    "print(car4)\n",
    "\n",
    "car5=car(\"Aqua\",\"Hybrid\",\"Aqua\",2015,870)\n",
    "print(car5.name)\n",
    "print(car5.model)\n",
    "print(car5.color)\n",
    "print(car5.year)\n",
    "print(car5.hp)\n",
    "car5.updateco_name(\"Toyota\")\n",
    "car5.updatecity(\"BeJing\")\n",
    "car5.updatecountry(\"China\")\n",
    "print(car5.co)\n",
    "print(car5.city)\n",
    "print(car5.country)\n",
    "print(car5)"
   ]
  }
 ],
 "metadata": {
  "kernelspec": {
   "display_name": "Python 3",
   "language": "python",
   "name": "python3"
  },
  "language_info": {
   "codemirror_mode": {
    "name": "ipython",
    "version": 3
   },
   "file_extension": ".py",
   "mimetype": "text/x-python",
   "name": "python",
   "nbconvert_exporter": "python",
   "pygments_lexer": "ipython3",
   "version": "3.7.1"
  }
 },
 "nbformat": 4,
 "nbformat_minor": 2
}
